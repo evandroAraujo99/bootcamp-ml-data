{
 "cells": [
  {
   "cell_type": "code",
   "execution_count": 1,
   "id": "86b86900-5851-4f58-904f-555c20e276a0",
   "metadata": {},
   "outputs": [
    {
     "name": "stdout",
     "output_type": "stream",
     "text": [
      "Leitura do CSV realizada, Conteúdo:\n",
      "+---+-----+-----+\n",
      "| ID| Nome|Idade|\n",
      "+---+-----+-----+\n",
      "|  1|  Ana|   28|\n",
      "|  2|Bruno|   35|\n",
      "|  3|Carla|   42|\n",
      "+---+-----+-----+\n",
      "\n"
     ]
    }
   ],
   "source": [
    "from pyspark.sql import SparkSession\n",
    "\n",
    "spark = SparkSession.builder.appName(\"TesteCSV\").getOrCreate()\n",
    "df = spark.read.csv(\"pessoas.csv\", header=True)\n",
    "\n",
    "print(\"Leitura do CSV realizada, Conteúdo:\")\n",
    "df.show()\n",
    "\n",
    "spark.stop()"
   ]
  },
  {
   "cell_type": "code",
   "execution_count": null,
   "id": "62982d40-8888-40cd-aaf9-3f37cc52d929",
   "metadata": {},
   "outputs": [],
   "source": []
  }
 ],
 "metadata": {
  "kernelspec": {
   "display_name": "Python [conda env:base] *",
   "language": "python",
   "name": "conda-base-py"
  },
  "language_info": {
   "codemirror_mode": {
    "name": "ipython",
    "version": 3
   },
   "file_extension": ".py",
   "mimetype": "text/x-python",
   "name": "python",
   "nbconvert_exporter": "python",
   "pygments_lexer": "ipython3",
   "version": "3.13.5"
  }
 },
 "nbformat": 4,
 "nbformat_minor": 5
}
